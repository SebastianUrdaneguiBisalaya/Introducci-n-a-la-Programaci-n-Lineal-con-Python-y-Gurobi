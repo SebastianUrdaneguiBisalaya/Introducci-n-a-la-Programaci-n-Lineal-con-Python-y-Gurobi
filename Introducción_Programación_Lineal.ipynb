{
 "cells": [
  {
   "cell_type": "markdown",
   "id": "579babef",
   "metadata": {},
   "source": [
    "## **Programación Lineal con Python y Gurobi**\n",
    "\n",
    "Este cuaderno de trabajo en Jupyter pretende hacer una introducción a la programación lineal a partir de ejemplos prácticos extraídos del libro Métodos cuantitativos para la administración.\n",
    "\n",
    "La aplicación de la programación lineal se realizará mediante el lenguaje de programación Python y la librería Gurobipy.\n",
    "\n",
    "**Bibliografía:** Hillier, F., Hillier, M., Schmedders, K., Stephens, M. (2008). Quantitative Methods for Administration. (3° Ed.). Mexico: McGraw-Hill Interamericana."
   ]
  },
  {
   "cell_type": "code",
   "execution_count": 2,
   "id": "e93464fb",
   "metadata": {},
   "outputs": [],
   "source": [
    "# !pip install gurobipy -> Instalación de la librería para el proceso de optimización.\n",
    "import pandas as pd\n",
    "import matplotlib.pyplot as plt\n",
    "import numpy as np\n",
    "from gurobipy import *"
   ]
  },
  {
   "cell_type": "markdown",
   "id": "f5ea2223",
   "metadata": {},
   "source": [
    "## **Problemas de asignación de recursos**\n",
    "**Pregunta 1: Problema de mezcla publicitaria de la Super Grain Corp**\n",
    "\n",
    "**Bibliografía:** Hillier, F., Hillier, M., Schmedders, K., Stephens, M. (2008). Quantitative Methods for Administration. (3° Ed., pp. 55). Mexico: McGraw-Hill Interamericana.\n",
    "\n",
    "**a) Declaración de la variable**\n",
    "\n",
    "Sea $x_i$: número de exposiciones en los medios de publicidad $i$ más efectivos ($1.$ Comerciales de televisión, $2.$ Anuncios de revistas, $3.$ Anuncios en los suplementos dominicales)\n",
    "\n",
    "**b) Declaración de la función objetivo**\n",
    "\n",
    "$Max. 1'300,000x_1 + 600,000x_2 + 500,000x_3$\n",
    "\n",
    "**c) Sujeto a las restricciones**\n",
    "\n",
    "$300,000x_1 + 150,000x_2 + 100,000x_3 <= 4'000,000$\n",
    "\n",
    "$90,000x_1 + 30,000x_2 + 40,000x_3 <= 1'000,000$\n",
    "\n",
    "$x_1 <= 5$ "
   ]
  },
  {
   "cell_type": "code",
   "execution_count": 4,
   "id": "87d85d98",
   "metadata": {},
   "outputs": [
    {
     "name": "stdout",
     "output_type": "stream",
     "text": [
      "Restricted license - for non-production use only - expires 2023-10-25\n"
     ]
    },
    {
     "data": {
      "text/plain": [
       "<gurobi.Constr *Awaiting Model Update*>"
      ]
     },
     "execution_count": 4,
     "metadata": {},
     "output_type": "execute_result"
    }
   ],
   "source": [
    "#Creación del modelo\n",
    "model = Model('Modelo 1')\n",
    "#Creación de las variables de decisión\n",
    "x1 = model.addVar(vtype = GRB.CONTINUOUS, name = 'x1')\n",
    "x2 = model.addVar(vtype = GRB.CONTINUOUS, name = 'x2')\n",
    "x3 = model.addVar(vtype = GRB.CONTINUOUS, name = 'x3')\n",
    "#Creación de la función objetivo\n",
    "model.setObjective(1300000*x1 + 600000*x2 + 500000*x3, GRB.MAXIMIZE)\n",
    "#Restricciones\n",
    "model.addConstr(300000*x1+150000*x2+100000*x3<=4000000)\n",
    "model.addConstr(90000*x1+30000*x2+40000*x3<= 1000000)\n",
    "model.addConstr(x1<=5)"
   ]
  },
  {
   "cell_type": "code",
   "execution_count": 5,
   "id": "271eff7c",
   "metadata": {},
   "outputs": [],
   "source": [
    "model.write('Modelo 1.lp')"
   ]
  },
  {
   "cell_type": "code",
   "execution_count": 6,
   "id": "9a7ee734",
   "metadata": {},
   "outputs": [
    {
     "name": "stdout",
     "output_type": "stream",
     "text": [
      "Maximize\n",
      "  <gurobi.LinExpr: 1300000.0 x1 + 600000.0 x2 + 500000.0 x3>\n",
      "Subject To\n",
      "  R0: <gurobi.LinExpr: 300000.0 x1 + 150000.0 x2 + 100000.0 x3> <= 4e+06\n",
      "  R1: <gurobi.LinExpr: 90000.0 x1 + 30000.0 x2 + 40000.0 x3> <= 1e+06\n",
      "  R2: <gurobi.LinExpr: x1> <= 5\n"
     ]
    }
   ],
   "source": [
    "model.display()"
   ]
  },
  {
   "cell_type": "code",
   "execution_count": 7,
   "id": "e72118ec",
   "metadata": {},
   "outputs": [
    {
     "name": "stdout",
     "output_type": "stream",
     "text": [
      "Gurobi Optimizer version 9.5.1 build v9.5.1rc2 (win64)\n",
      "Thread count: 4 physical cores, 8 logical processors, using up to 8 threads\n",
      "Optimize a model with 3 rows, 3 columns and 7 nonzeros\n",
      "Model fingerprint: 0x9a6ccb12\n",
      "Coefficient statistics:\n",
      "  Matrix range     [1e+00, 3e+05]\n",
      "  Objective range  [5e+05, 1e+06]\n",
      "  Bounds range     [0e+00, 0e+00]\n",
      "  RHS range        [5e+00, 4e+06]\n",
      "Presolve removed 1 rows and 0 columns\n",
      "Presolve time: 0.02s\n",
      "Presolved: 2 rows, 3 columns, 6 nonzeros\n",
      "\n",
      "Iteration    Objective       Primal Inf.    Dual Inf.      Time\n",
      "       0    2.0000000e+07   6.177094e+03   0.000000e+00      0s\n",
      "       3    1.7000000e+07   0.000000e+00   0.000000e+00      0s\n",
      "\n",
      "Solved in 3 iterations and 0.04 seconds (0.00 work units)\n",
      "Optimal objective  1.700000000e+07\n"
     ]
    }
   ],
   "source": [
    "#Optimizar\n",
    "model.optimize()"
   ]
  },
  {
   "cell_type": "code",
   "execution_count": 8,
   "id": "ac8b9130",
   "metadata": {},
   "outputs": [
    {
     "name": "stdout",
     "output_type": "stream",
     "text": [
      "****************************************\n",
      "Primera forma de presentar los datos\n",
      "El valor óptimo de la mezcla publicitaria que maximiza el presupuesto es 17.0 millones de dólares\n",
      "El número esperado de exposiciones por medio de comunicación que maximiza el objetivo es 0.0 comerciales de televisión, 20.0 anunucios de revistas y 10.0 anuncios en los suplementos dominicales\n",
      "****************************************\n",
      "Segunda forma de presentar los datos\n",
      "Función objetiov:  17000000.0\n",
      "x1=0.0\n",
      "x2=20.0\n",
      "x3=10.0\n",
      "****************************************\n"
     ]
    }
   ],
   "source": [
    "print('****************************************')\n",
    "print('Primera forma de presentar los datos')\n",
    "#Datos optimizados\n",
    "obj_fun = model.ObjVal\n",
    "print(f'El valor óptimo de la mezcla publicitaria que maximiza el presupuesto es {obj_fun/1000000} millones de dólares')\n",
    "#Valores de las varibales\n",
    "text_x1 = 'comerciales de televisión'\n",
    "text_x2 = 'anunucios de revistas'\n",
    "text_x3 = 'anuncios en los suplementos dominicales'\n",
    "print(f'El número esperado de exposiciones por medio de comunicación que maximiza el objetivo es {x1.x} {text_x1}, {x2.x} {text_x2} y {x3.x} {text_x3}')\n",
    "\n",
    "print('****************************************')\n",
    "print('Segunda forma de presentar los datos')\n",
    "print('Función objetiov: ', str(round(model.ObjVal, 2)))\n",
    "for v in model.getVars():\n",
    "    print(str(v.VarName)+\"=\"+str(round(v.x, 2)))\n",
    "print('****************************************')"
   ]
  },
  {
   "cell_type": "markdown",
   "id": "8a3e9c92",
   "metadata": {},
   "source": [
    "**Pregunta 2: Problema de presupuesto de capital de la empresa Think-Big Development CO**\n",
    "**Bibliografía:** Hillier, F., Hillier, M., Schmedders, K., Stephens, M. (2008). Quantitative Methods for Administration. (3° Ed., pp. 65). Mexico: McGraw-Hill Interamericana.\n",
    "\n",
    "**a) Declaración de la variable**\n",
    "\n",
    "Sea $x_i$: porcentaje de inversión en los proyectos comerciales de desarrollo de bienes raíces $i$ ($1.$ Edificio, $2.$ Hotel, $3.$ Centro Comercial)\n",
    "\n",
    "**b) Declaración de la función objetivo**\n",
    "\n",
    "$Max. 45x_1 + 70x_2 + 50x_3$\n",
    "\n",
    "**c) Sujeto a las restricciones**\n",
    "\n",
    "$40x_1 + 80x_2 + 90x_3 <= 25$\n",
    "\n",
    "$100x_1 + 160x_2 + 140x_3 <= 45$\n",
    "\n",
    "$190x_1 + 240x_2 + 160x_3 <= 65$\n",
    "\n",
    "$200x_1 + 310x_2 + 220x_3 <= 80$"
   ]
  },
  {
   "cell_type": "code",
   "execution_count": 9,
   "id": "d4c3f9e7",
   "metadata": {},
   "outputs": [
    {
     "name": "stdout",
     "output_type": "stream",
     "text": [
      "Gurobi Optimizer version 9.5.1 build v9.5.1rc2 (win64)\n",
      "Thread count: 4 physical cores, 8 logical processors, using up to 8 threads\n",
      "Optimize a model with 4 rows, 3 columns and 12 nonzeros\n",
      "Model fingerprint: 0x038af9ad\n",
      "Coefficient statistics:\n",
      "  Matrix range     [4e+01, 3e+02]\n",
      "  Objective range  [5e+01, 7e+01]\n",
      "  Bounds range     [0e+00, 0e+00]\n",
      "  RHS range        [3e+01, 8e+01]\n",
      "Presolve time: 0.01s\n",
      "Presolved: 4 rows, 3 columns, 12 nonzeros\n",
      "\n",
      "Iteration    Objective       Primal Inf.    Dual Inf.      Time\n",
      "       0    8.1250000e+30   6.660156e+30   8.125000e+00      0s\n",
      "       2    1.8106796e+01   0.000000e+00   0.000000e+00      0s\n",
      "\n",
      "Solved in 2 iterations and 0.02 seconds (0.00 work units)\n",
      "Optimal objective  1.810679612e+01\n",
      "****************************************\n",
      "La rentabilidad maximizada por la inversión en los proyectos de inversión brinda un valor de 18.11 millones de dólares\n",
      "Think-Big Development CO debe invertir 0.0 % como porcentaje del total en la construcción de edificios\n",
      "Think-Big Development CO debe invertir 16.5 % como porcentaje del total en la construcción de hotel\n",
      "Think-Big Development CO debe invertir 13.11 % como porcentaje del total en la construcción del centro comercial\n",
      "****************************************\n"
     ]
    }
   ],
   "source": [
    "model = Model('Modelo 2')\n",
    "x1 = model.addVar(vtype = GRB.CONTINUOUS, name = 'x1')\n",
    "x2 = model.addVar(vtype = GRB.CONTINUOUS, name = 'x2')\n",
    "x3 = model.addVar(vtype = GRB.CONTINUOUS, name = 'x3')\n",
    "model.setObjective(45*x1 + 70*x2 + 50*x3, GRB.MAXIMIZE)\n",
    "model.addConstr(40*x1+80*x2+90*x3<=25)\n",
    "model.addConstr(100*x1+160*x2+140*x3<=45)\n",
    "model.addConstr(190*x1+240*x2+160*x3<=65)\n",
    "model.addConstr(200*x1+310*x2+220*x3<=80)\n",
    "model.optimize()\n",
    "print('****************************************')\n",
    "obj_fun = model.ObjVal\n",
    "print(f'La rentabilidad maximizada por la inversión en los proyectos de inversión brinda un valor de {round(obj_fun,2)} millones de dólares')\n",
    "print(f'Think-Big Development CO debe invertir {round(x1.x * 100,2)} % como porcentaje del total en la construcción de edificios')\n",
    "print(f'Think-Big Development CO debe invertir {round(x2.x * 100,2)} % como porcentaje del total en la construcción de hotel')\n",
    "print(f'Think-Big Development CO debe invertir {round(x3.x * 100,2)} % como porcentaje del total en la construcción del centro comercial')\n",
    "print('****************************************')"
   ]
  },
  {
   "cell_type": "markdown",
   "id": "5fea5016",
   "metadata": {},
   "source": [
    "## **Problemas de canje costo-beneficio**\n",
    "**Pregunta 3: Problema de mezcla publicitaria de Profit & Gambit CO**\n",
    "**Bibliografía:** Hillier, F., Hillier, M., Schmedders, K., Stephens, M. (2008). Quantitative Methods for Administration. (3° Ed., pp. 72). Mexico: McGraw-Hill Interamericana.\n",
    "\n",
    "**a) Declaración de la variable**\n",
    "\n",
    "Sea $x_i$: costo unitario de los medios publicitarios en cada medio de comunicación $i$ ($1.$ Televisión, $2.$ Medio Impreso)\n",
    "\n",
    "**b) Declaración de la función objetivo**\n",
    "\n",
    "$Min. x_1 + x_2$\n",
    "\n",
    "**c) Sujeto a las restricciones**\n",
    "\n",
    "$x_1 + x_2 >= 3\\%$\n",
    "\n",
    "$x_1 + x_2 >= 18\\%$\n",
    "\n",
    "$x_1 + x_2 >= 4\\%$"
   ]
  },
  {
   "cell_type": "code",
   "execution_count": 34,
   "id": "27769161",
   "metadata": {},
   "outputs": [
    {
     "name": "stdout",
     "output_type": "stream",
     "text": [
      "Gurobi Optimizer version 9.5.1 build v9.5.1rc2 (win64)\n",
      "Thread count: 4 physical cores, 8 logical processors, using up to 8 threads\n",
      "Optimize a model with 3 rows, 2 columns and 6 nonzeros\n",
      "Model fingerprint: 0xfad40ec5\n",
      "Coefficient statistics:\n",
      "  Matrix range     [1e+00, 1e+00]\n",
      "  Objective range  [1e+00, 1e+00]\n",
      "  Bounds range     [0e+00, 0e+00]\n",
      "  RHS range        [3e-02, 2e-01]\n",
      "Presolve removed 3 rows and 2 columns\n",
      "Presolve time: 0.02s\n",
      "Presolve: All rows and columns removed\n",
      "Iteration    Objective       Primal Inf.    Dual Inf.      Time\n",
      "       0    1.8000000e-01   0.000000e+00   0.000000e+00      0s\n",
      "\n",
      "Solved in 0 iterations and 0.02 seconds (0.00 work units)\n",
      "Optimal objective  1.800000000e-01\n",
      "****************************************\n",
      "El costo mínimo de anunciar en los medios publicitarios es de 0.18\n",
      "Se debe incrementar el anuncio en 18.0% en los medios televisivos para minimizar los costos de anuncio\n",
      "****************************************\n"
     ]
    }
   ],
   "source": [
    "model = Model('Modelo 3')\n",
    "x1 = model.addVar(vtype = GRB.CONTINUOUS, name = 'x1')\n",
    "x2 = model.addVar(vtype = GRB.CONTINUOUS, name = 'x2')\n",
    "model.setObjective(x1 + x2, GRB.MINIMIZE)\n",
    "model.addConstr(x1 + x2 >= 0.03)\n",
    "model.addConstr(x1 + x2 >= 0.18)\n",
    "model.addConstr(x1 + x2 >= 0.04)\n",
    "model.optimize()\n",
    "print('****************************************')\n",
    "print(f'El costo mínimo de anunciar en los medios publicitarios es de {model.ObjVal}')\n",
    "print(f'Se debe incrementar el anuncio en {x1.x*100}% en los medios televisivos para minimizar los costos de anuncio')\n",
    "print('****************************************')"
   ]
  },
  {
   "cell_type": "markdown",
   "id": "906aa54f",
   "metadata": {},
   "source": [
    "## Problemas de asignación personal\n",
    "**Pregunta 4: Empresa Union Airways**\n",
    "**Bibliografía:** Hillier, F., Hillier, M., Schmedders, K., Stephens, M. (2008). Quantitative Methods for Administration. (3° Ed., pp. 72). Mexico: McGraw-Hill Interamericana.\n",
    "\n",
    "**a) Declaración de la variable**\n",
    "\n",
    "Sea $x_i$: Turnos de trabajo i ($1.$ Turno 1, $2.$ Turno 2, $3.$ Turno 3, $4.$ Turno 4, $5.$ Turno 5$\n",
    "\n",
    "**b) Declaración de la función objetivo**\n",
    "\n",
    "$Min. 170x_1 + 160x_2 + 175x_3 + 180x_4 + 195x_5$\n",
    "\n",
    "**c) Sujeto a las restricciones**\n",
    "\n",
    "x_1 >= 48\n",
    "\n",
    "x_1 + x_2 >= 79\n",
    "\n",
    "x_1 + x_2 >= 65\n",
    "\n",
    "x_1 + x_2 + x_3 >= 87\n",
    "\n",
    "x_2 + x_3 >= 64\n",
    "\n",
    "x_3 + x_4 >= 73\n",
    "\n",
    "x_3 + x_4 >= 82\n",
    "\n",
    "x_4 >= 43\n",
    "\n",
    "x_4 + x_5 >= 52\n",
    "\n",
    "x_5 >= 15"
   ]
  },
  {
   "cell_type": "code",
   "execution_count": 35,
   "id": "a9bbfce1",
   "metadata": {},
   "outputs": [
    {
     "name": "stdout",
     "output_type": "stream",
     "text": [
      "Gurobi Optimizer version 9.5.1 build v9.5.1rc2 (win64)\n",
      "Thread count: 4 physical cores, 8 logical processors, using up to 8 threads\n",
      "Optimize a model with 10 rows, 5 columns and 18 nonzeros\n",
      "Model fingerprint: 0xa493129d\n",
      "Coefficient statistics:\n",
      "  Matrix range     [1e+00, 1e+00]\n",
      "  Objective range  [2e+02, 2e+02]\n",
      "  Bounds range     [0e+00, 0e+00]\n",
      "  RHS range        [2e+01, 9e+01]\n",
      "Presolve removed 10 rows and 5 columns\n",
      "Presolve time: 0.00s\n",
      "Presolve: All rows and columns removed\n",
      "Iteration    Objective       Primal Inf.    Dual Inf.      Time\n",
      "       0    3.0610000e+04   0.000000e+00   0.000000e+00      0s\n",
      "\n",
      "Solved in 0 iterations and 0.00 seconds (0.00 work units)\n",
      "Optimal objective  3.061000000e+04\n",
      "****************************************\n",
      "El costo diario total mínimo según los horarios de trabajo de todo el personal es 30610.0\n",
      "La empresa Union Airways requiere 48.0 trabajadores en el turno 1\n",
      "La empresa Union Airways requiere 31.0 trabajadores en el turno 2\n",
      "La empresa Union Airways requiere 39.0 trabajadores en el turno 3\n",
      "La empresa Union Airways requiere 43.0 trabajadores en el turno 4\n",
      "La empresa Union Airways requiere 15.0 trabajadores en el turno 5\n",
      "****************************************\n"
     ]
    }
   ],
   "source": [
    "model = Model('Modelo 4')\n",
    "x1 = model.addVar(vtype=GRB.CONTINUOUS, name='x1')\n",
    "x2 = model.addVar(vtype=GRB.CONTINUOUS, name='x2')\n",
    "x3 = model.addVar(vtype=GRB.CONTINUOUS, name='x3')\n",
    "x4 = model.addVar(vtype=GRB.CONTINUOUS, name='x4')\n",
    "x5 = model.addVar(vtype=GRB.CONTINUOUS, name='x5')\n",
    "model.setObjective(170*x1 + 160*x2 + 175*x3 + 180*x4 + 195*x5, GRB.MINIMIZE)\n",
    "model.addConstr(x1 >= 48)\n",
    "model.addConstr(x1 + x2 >= 79)\n",
    "model.addConstr(x1 + x2 >= 65)\n",
    "model.addConstr(x1 + x2 + x3 >= 87)\n",
    "model.addConstr(x2 + x3 >= 64)\n",
    "model.addConstr(x3 + x4 >= 73)\n",
    "model.addConstr(x3 + x4 >= 82)\n",
    "model.addConstr(x4 >= 43)\n",
    "model.addConstr(x4 + x5 >= 52)\n",
    "model.addConstr(x5 >= 15)\n",
    "model.optimize()\n",
    "print('****************************************')\n",
    "print(f'El costo diario total mínimo según los horarios de trabajo de todo el personal es {model.ObjVal}')\n",
    "print(f'La empresa Union Airways requiere {x1.x} trabajadores en el turno 1')\n",
    "print(f'La empresa Union Airways requiere {x2.x} trabajadores en el turno 2')\n",
    "print(f'La empresa Union Airways requiere {x3.x} trabajadores en el turno 3')\n",
    "print(f'La empresa Union Airways requiere {x4.x} trabajadores en el turno 4')\n",
    "print(f'La empresa Union Airways requiere {x5.x} trabajadores en el turno 5')\n",
    "print('****************************************')"
   ]
  },
  {
   "cell_type": "markdown",
   "id": "f84c82ed",
   "metadata": {},
   "source": [
    "## Requerimiento fijo\n",
    "**Pregunta 5: Incorporación de la consideración administrativa de Grain Corp**\n",
    "**Bibliografía:** Hillier, F., Hillier, M., Schmedders, K., Stephens, M. (2008). Quantitative Methods for Administration. (3° Ed., pp. 79). Mexico: McGraw-Hill Interamericana.\n",
    "\n",
    "**a) Declaración de la variable**\n",
    "\n",
    "Sea $x_i$: número de exposiciones en los medios de publicidad $i$ más efectivos ($1.$ Comerciales de televisión, $2.$ Anuncios de revistas, $3.$ Anuncios en los suplementos dominicales)\n",
    "\n",
    "**b) Declaración de la función objetivo**\n",
    "\n",
    "$Max. 1'300,000x_1 + 600,000x_2 + 500,000x_3$\n",
    "\n",
    "**c) Sujeto a las restricciones**\n",
    "\n",
    "$300,000x_1 + 150,000x_2 + 100,000x_3 <= 4'000,000$\n",
    "\n",
    "$90,000x_1 + 30,000x_2 + 40,000x_3 <= 1'000,000$\n",
    "\n",
    "$x_1 <= 5$ \n",
    "\n",
    "$1'200,000x_1 + 100,000x_2 >= 5'000,000$\n",
    "\n",
    "$500,000x_1 + 200,000x_2 + 200,000x_3 >= 5'000,000$\n",
    "\n",
    "$40,000x_2 + 120,000x_3 >= 1'490,000$"
   ]
  },
  {
   "cell_type": "code",
   "execution_count": 8,
   "id": "5afe702f",
   "metadata": {},
   "outputs": [
    {
     "name": "stdout",
     "output_type": "stream",
     "text": [
      "Gurobi Optimizer version 9.5.1 build v9.5.1rc2 (win64)\n",
      "Thread count: 4 physical cores, 8 logical processors, using up to 8 threads\n",
      "Optimize a model with 6 rows, 3 columns and 14 nonzeros\n",
      "Model fingerprint: 0xe2e17079\n",
      "Coefficient statistics:\n",
      "  Matrix range     [1e+00, 1e+06]\n",
      "  Objective range  [5e+05, 1e+06]\n",
      "  Bounds range     [0e+00, 0e+00]\n",
      "  RHS range        [5e+00, 5e+06]\n",
      "Presolve removed 1 rows and 0 columns\n",
      "Presolve time: 0.02s\n",
      "Presolved: 5 rows, 3 columns, 13 nonzeros\n",
      "\n",
      "Iteration    Objective       Primal Inf.    Dual Inf.      Time\n",
      "       0    1.9166667e+07   3.122157e+03   0.000000e+00      0s\n",
      "       2    1.6175000e+07   0.000000e+00   0.000000e+00      0s\n",
      "\n",
      "Solved in 2 iterations and 0.02 seconds (0.00 work units)\n",
      "Optimal objective  1.617500000e+07\n",
      "El número de exposiciones optimizado en los medios de publicidad para captar la atención de niños pequeños y padres de niños pequeños es 16175000.0\n",
      "El número de exposiciones que tendrá la publicidad en los comerciales de televisión para optimizar el proceso es de 3.0\n",
      "El número de exposiciones que tendrá la publicidad en los anuncios de revistas para optimizar el proceso es de 14.0\n",
      "El número de exposiciones que tendrá la publicidad en los suplementos dominicales para optimizar el proceso es de 7.75\n"
     ]
    }
   ],
   "source": [
    "model = Model('Modelo 5')\n",
    "x1 = model.addVar(vtype = GRB.CONTINUOUS, name = 'x1')\n",
    "x2 = model.addVar(vtype = GRB.CONTINUOUS, name = 'x2')\n",
    "x3 = model.addVar(vtype = GRB.CONTINUOUS, name = 'x3')\n",
    "model.setObjective(1300000*x1 + 600000*x2 + 500000*x3, GRB.MAXIMIZE)\n",
    "model.addConstr(300000*x1+150000*x2+100000*x3<=4000000)\n",
    "model.addConstr(90000*x1+30000*x2+40000*x3<= 1000000)\n",
    "model.addConstr(x1<=5)\n",
    "model.addConstr(1200000*x1 + 100000*x2 >= 5000000)\n",
    "model.addConstr(500000*x1 + 200000*x2 + 200000*x3 >= 5000000)\n",
    "model.addConstr(40000*x2 + 120000*x3 >= 1490000)\n",
    "model.optimize()\n",
    "print(f'El número de exposiciones optimizado en los medios de publicidad para captar la atención de niños pequeños y padres de niños pequeños es {round(model.ObjVal,2)}')\n",
    "print(f'El número de exposiciones que tendrá la publicidad en los comerciales de televisión para optimizar el proceso es de {round(x1.x,2)}')\n",
    "print(f'El número de exposiciones que tendrá la publicidad en los anuncios de revistas para optimizar el proceso es de {round(x2.x,2)}')\n",
    "print(f'El número de exposiciones que tendrá la publicidad en los suplementos dominicales para optimizar el proceso es de {round(x3.x,2)}')"
   ]
  },
  {
   "cell_type": "code",
   "execution_count": null,
   "id": "eb8ef4da",
   "metadata": {},
   "outputs": [],
   "source": []
  }
 ],
 "metadata": {
  "kernelspec": {
   "display_name": "Python 3 (ipykernel)",
   "language": "python",
   "name": "python3"
  },
  "language_info": {
   "codemirror_mode": {
    "name": "ipython",
    "version": 3
   },
   "file_extension": ".py",
   "mimetype": "text/x-python",
   "name": "python",
   "nbconvert_exporter": "python",
   "pygments_lexer": "ipython3",
   "version": "3.9.7"
  }
 },
 "nbformat": 4,
 "nbformat_minor": 5
}
